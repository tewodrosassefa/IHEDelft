{
  "cells": [
    {
      "cell_type": "markdown",
      "source": [
        "# Descarga de datos de WaPOR v3 utilizando Python.\n",
        "\n",
        "[![](https://raw.githubusercontent.com//wateraccounting/WaPORMOOC/main/images/colab-badge.png)](https://colab.research.google.com/github/wateraccounting/WaPORMOOC/blob/main/1_WaPOR_download_colab/Download_WaPORv3_Data_ES.ipynb?target=\"_blank\")\n",
        "\n",
        "Para ejectuar el cuaderno en CoLab, de clic [aquí](https://colab.research.google.com/github/wateraccounting/WaPORMOOC/blob/main/1_WaPOR_download_colab/Download_WaPORv3_Data_ES.ipynb?target=\"_blank\").\n"
      ],
      "metadata": {
        "id": "1Bnqv76ZI_vX"
      }
    },
    {
      "cell_type": "markdown",
      "source": [
        "---"
      ],
      "metadata": {
        "id": "NgCevn2CJENj"
      }
    },
    {
      "cell_type": "markdown",
      "metadata": {
        "id": "GaiJb9WBsgBc"
      },
      "source": [
        "En este cuaderno utilizaremos el [paquete wapordl](https://bitbucket.org/cioapps/wapordl/src/main/) puesto a disposición por la FAO para descargar datos de WaPOR v3 y descargar archivos a su computadora local. Este breve [video](https://www.youtube.com/watch?v=ymBM_EVPEMQ) explica cómo utilizar este script. Para obtener más información sobre cómo utilizar los datos descargados de WaPOR v3, consulte el [Curso en línea masivo y abierto sobre introducción a WaPORv3](https://ocw.un-ihe.org/course/view.php?id=269) (en español).\n",
        "\n",
        "   \n",
        "Los pasos son los siguientes:\n",
        "\n",
        "0. Instalar y cargar los paquetes necesarios\n",
        "1. Cargar un archivo `.geojson` que define el límite del área de interés\n",
        "2. Utilizar el paquete `wapordl` para descargar archivos ráster para cada variable\n",
        "3. Comprimir los archivos ráster y descargarlos a una carpeta local\n",
        "\n",
        "Este script utiliza Google Drive, pero se puede utilizar sin necesidad de [conectar](https://colab.research.google.com/notebooks/snippets/drive.ipynb) Google Colab con su Google Drive. Si desea utilizar archivos almacenados en su Google Drive o guardar los archivos allí, primero debe conectar el script.\n",
        "\n",
        "**NOTA**: Este script permite descargar datos WaPOR en archivos TIFF separados utilizando la convención de nombres WaPOR. Versiones anteriores requerían el uso del factor de escala, que ya no se requiere. Este código crea datos en unidades que difieren según la escala temporal de los datos (por ejemplo, los datos decadales se convierten de mm/día a mm/dekade). Para obtener más información sobre los formatos de datos WaPOR, consulte este [video](https://www.youtube.com/watch?v=nm5IAy4MHg4). La eliminación del factor de escala aumenta el tamaño del archivo; para usuarios más avanzados, consulte el [paquete wapordl](https://bitbucket.org/cioapps/wapordl/src/main/), creado por la FAO, para explorar más formas de descargar datos WaPORv3 (incluida una opción para descargar un archivo con valores escalados en múltiples bandas para ahorrar espacio; en este caso, tenga en cuenta que el factor de escala debe aplicarse al utilizar dichos datos).\n",
        "\n",
        " © 2024 IHE Delft Licenced under CC BY SA Creative Commons"
      ]
    },
    {
      "cell_type": "markdown",
      "metadata": {
        "id": "E1Q79xi9IqgQ"
      },
      "source": [
        "\n",
        "\n",
        "---\n",
        "\n"
      ]
    },
    {
      "cell_type": "markdown",
      "metadata": {
        "id": "uirLoQBqA-Hs"
      },
      "source": [
        "## **Paso 0: instalar y cargar los paquetes necesarios**\n",
        "A modo de comprobación, también le informamos la versión de `wapordl` que está usando (se utiliza para ayudar a la solución de un posible error de ejecución)"
      ]
    },
    {
      "cell_type": "code",
      "execution_count": null,
      "metadata": {
        "id": "3-CeI7rls2_4"
      },
      "outputs": [],
      "source": [
        "%%capture\n",
        "!pip install --upgrade wapordl --quiet\n"
      ]
    },
    {
      "cell_type": "code",
      "execution_count": null,
      "metadata": {
        "id": "74qweMAtU5C1"
      },
      "outputs": [],
      "source": [
        "import wapordl\n",
        "print(wapordl.__version__)"
      ]
    },
    {
      "cell_type": "markdown",
      "metadata": {
        "id": "5ZGHVNmRs6Bs"
      },
      "source": [
        "#### Importar y cargar los paquetes necesarios"
      ]
    },
    {
      "cell_type": "code",
      "execution_count": null,
      "metadata": {
        "id": "T3EBB-5f7mcP"
      },
      "outputs": [],
      "source": [
        "# from osgeo import gdal\n",
        "import glob\n",
        "import os\n",
        "from wapordl import wapor_map\n",
        "from wapordl import wapor_ts"
      ]
    },
    {
      "cell_type": "markdown",
      "metadata": {
        "id": "llH9UoaqIsAN"
      },
      "source": [
        "\n",
        "\n",
        "---\n",
        "\n"
      ]
    },
    {
      "cell_type": "markdown",
      "metadata": {
        "id": "rtlfEcFHBTUy"
      },
      "source": [
        "## **Paso 1: cargue un archivo `geojson` para definir el límite del área de interés**\n",
        "El área de interés se puede definir proporcionando un archivo `geojson` o las coordenadas de un cuadrado delimitador del área de interés. En este paso, cargaremos un archivo `geojson`. Si decide utilizar el enfoque del cuadrado delimitador, puede omitir este paso.\n",
        "\n",
        "**NOTA**: actualmente `wapordl` solo admite el formato de archivo `geojson`. Si tiene un archivo en otro formato, puede utilizar QGIS para exportarlo como `geojson`.\n"
      ]
    },
    {
      "cell_type": "code",
      "execution_count": null,
      "metadata": {
        "id": "DI1-Uc7JQETk"
      },
      "outputs": [],
      "source": [
        "#To upload file.\n",
        "from google.colab import files\n",
        "uploaded = files.upload()"
      ]
    },
    {
      "cell_type": "markdown",
      "metadata": {
        "id": "XPNh8UgrBt_A"
      },
      "source": [
        "Si el script no se ejecuta, verifique si el `geojson` está en formato 2D. (`Shapely` actualmente no admite geometrías 3D, por lo que la solución alternativa es [convertir su geometría de 3D a 2D](https://gis.stackexchange.com/questions/255540/convert-3d-shapefile-to-2d-in-qgis))."
      ]
    },
    {
      "cell_type": "markdown",
      "metadata": {
        "id": "SAHKRORqItft"
      },
      "source": [
        "\n",
        "\n",
        "---\n",
        "\n"
      ]
    },
    {
      "cell_type": "markdown",
      "metadata": {
        "id": "JTwt1Ng6CUaq"
      },
      "source": [
        "## **Paso 2: usar el paquete `wapordl` para descargar archivos ráster para cada variable**\n",
        "\n",
        "Para usar el paquete `wapordl` para descargar datos de WaPOR, debe definir:\n",
        "  1. el área de interés (ya sea en un archivo `geojson` o en un cuadro delimitador definido como [xmin, ymin, xmax, ymax]),\n",
        "  2. las variables a descargar y el período de tiempo\n",
        "  3. la carpeta donde guardar los archivos descargados\n",
        "\n",
        "Las variables que se pueden descargar incluyen AETI (evapotranspiración e intercepción reales), T (transpiración), I (intercepción), E (evaporación), NPP (producto primario neto), PCP (precipitación), RET (evapotranspiración de referencia) y RSM (humedad relativa del suelo).\n",
        "\n",
        "Además, hay tres niveles de datos de WaPOR (L1, L2 y L3) relacionados con la resolución de los datos.\n",
        "\n",
        "En términos de resolución temporal, diario (E), decadal (D), mensual (M) y anual (A). Consulte en el [portal WaPOR](https://data.apps.fao.org/wapor/?lang=es) en qué resolución temporal están disponibles los datos que desea descargar.\n",
        "\n",
        "Consulte la **[descripción general de WaPOR](https://www.fao.org/in-action/remote-sensing-for-water-productivity/wapor-data/es)** para obtener más información sobre los datos de WaPOR, su cobertura espacial y temporal y el contenido de la base de datos. Para conocer la convención de nomenclatura de las variables de WaPOR, consulte la imagen siguiente.\n",
        "\n",
        "![](https://raw.githubusercontent.com/wateraccounting/WaPORMOOC/main/images/WaPOR%20naming%20conventions_update.jpg)"
      ]
    },
    {
      "cell_type": "code",
      "execution_count": null,
      "metadata": {
        "id": "Fhrwhd5JQCLT"
      },
      "outputs": [],
      "source": [
        "# 1) Definir región (eliminar el comentario (#) de la opción que se desea utilizar)\n",
        "# Definir región mediante un archivo geojson (si se utiliza un archivo almacenado en Google Drive,\n",
        "# agregar la ruta relativa aquí)\n",
        "region = r\"/content/Bekaa.geojson\"\n",
        "\n",
        "# definir región en el cuadro delimitador\n",
        "# region = [39.17, 8.32, 39.37, 8.50] # [xmin, ymin, xmax, ymax]\n",
        "\n",
        "# 2) definir las variables y el periodo de tiempo para descargar\n",
        "variables = [\"L2-AETI-A\"] #, \"L3-T-D\",\"L3-NPP-D\"]\n",
        "period = [\"2018-01-01\", \"2023-12-31\"]\n",
        "overview = \"NONE\"\n",
        "\n",
        "for var in variables:\n",
        "\n",
        "  # 3) Define una carpeta para guardar los rásteres descargados (esto creará una carpeta temporal\n",
        "  #llamada output. Si quiere que los datos se almacenen en otro lugar cambie la ruta,\n",
        "  # esto requiere conectar colab con Google drive)\n",
        "  folder = r\"/content/output\"+f\"/{var}\"\n",
        "  if not os.path.exists(folder):\n",
        "          os.makedirs(folder)\n",
        "\n",
        "  if('-E' in var):\n",
        "    unit = \"day\"\n",
        "  elif('-D' in var):\n",
        "    unit = \"dekad\"\n",
        "  elif('-M' in var):\n",
        "    unit = \"month\"\n",
        "  elif ('-A' in var):\n",
        "    unit = \"year\"\n",
        "  else:\n",
        "    unit = \"none\"\n",
        "\n",
        "  fps = wapor_map(region, var, period, folder, separate_unscale = True, unit_conversion = unit)\n"
      ]
    },
    {
      "cell_type": "markdown",
      "metadata": {
        "id": "i2uG2PhMIvJ9"
      },
      "source": [
        "\n",
        "Los archivos raster se encuentran en la carpeta de salida y se pueden descargar manualmente. También puede ir al paso 3 para utilizar un script para la descarga.\n",
        "\n"
      ]
    },
    {
      "cell_type": "markdown",
      "metadata": {
        "id": "jF9sxQquGtoH"
      },
      "source": [
        "## **Paso 3: comprima los archivos raster y descárguelos en una carpeta local**\n",
        "\n",
        "Este script comprimirá el contenido de la carpeta de salida y descargará el archivo comprimido en nuestra computadora local ejecutando la siguiente celda.\n",
        "\n",
        "*NOTA*: actualice las extensiones si ha cambiado la ubicación del archivo de salida."
      ]
    },
    {
      "cell_type": "code",
      "execution_count": null,
      "metadata": {
        "id": "9isKZdEm9mUs"
      },
      "outputs": [],
      "source": [
        "!zip -r /content/data.zip /content/output\n",
        "from google.colab import files\n",
        "files.download(r'/content/data.zip')\n"
      ]
    },
    {
      "cell_type": "code",
      "execution_count": null,
      "metadata": {
        "id": "oEC1npPT7r_o"
      },
      "outputs": [],
      "source": [
        "# # if you want to delete a folder use the code below.\n",
        "# !rm -rf /content/output\n",
        "# !rm -rf /content/tifs\n",
        "# !rm -rf /content/data.zip"
      ]
    }
  ],
  "metadata": {
    "colab": {
      "provenance": []
    },
    "kernelspec": {
      "display_name": "Python 3",
      "name": "python3"
    },
    "language_info": {
      "name": "python"
    }
  },
  "nbformat": 4,
  "nbformat_minor": 0
}