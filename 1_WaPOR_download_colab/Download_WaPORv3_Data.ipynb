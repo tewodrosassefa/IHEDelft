{
  "cells": [
    {
      "cell_type": "markdown",
      "metadata": {
        "id": "VSazLQDsjj7W"
      },
      "source": [
        "# Download WaPOR version 3 Data.\n",
        "\n",
        "[![](https://raw.githubusercontent.com//wateraccounting/WaPORMOOC/main/images/colab-badge.png)](https://colab.research.google.com/github/wateraccounting/WaPORMOOC/blob/main/1_WaPOR_download_colab/Download_WaPORv3_Data.ipynb?target=\"_blank\")\n",
        "\n",
        "To run the Notebook in Colab click [here](https://colab.research.google.com/github/wateraccounting/WaPORMOOC/blob/main/1_WaPOR_download_colab/Download_WaPORv3_Data.ipynb?target=\"_blank\")"
      ]
    },
    {
      "cell_type": "markdown",
      "metadata": {
        "id": "ZW1DHsGHjj7g"
      },
      "source": [
        "---"
      ]
    },
    {
      "cell_type": "markdown",
      "metadata": {
        "id": "GaiJb9WBsgBc"
      },
      "source": [
        "\n",
        "In this notebook we will use the [wapordl package](https://bitbucket.org/cioapps/wapordl/src/main/) made available by FAO to download WaPOR v3 data and download files to your local computer. This short [video](https://www.youtube.com/watch?v=ymBM_EVPEMQ) explains how to use this script. For details of how to use the downloaded WaPOR v3 data, refer to the [MOOC on Introduction to WaPORv3](https://ocw.un-ihe.org/course/view.php?id=263).\n",
        "\n",
        "   \n",
        "The steps are:\n",
        "\n",
        "0. Install and load necessary packages\n",
        "1. Upload a geojson file to define the boundary of area of interest\n",
        "2. Use the wapordl package to download raster files for each variable\n",
        "3. Zip the rasters files and download them to local folder\n",
        "\n",
        "This script can be used without [mounting](https://colab.research.google.com/notebooks/snippets/drive.ipynb) Google colab with your Google Drive, if you want to use files stored in your Google Drive or save the files there, you have to mount the script first.\n",
        "\n",
        "**NOTE**: This script allows for downloading WaPOR data in separate tiffs using the WaPOR naming convention, removal of the scaling factor and creating data in the units per the temporal scale of the data (eg dekadal data is converted from mm/day to mm/dekade). For more information about WaPOR data formats check out this [video](https://www.youtube.com/watch?v=nm5IAy4MHg4). Removal of the scaling factor increases the file size, for more advanced users, check out the [wapordl package](https://bitbucket.org/cioapps/wapordl/src/main/) created by FAO for more ways to download WaPORv3 data (including an option for downloading 1 file with scaled values in multiple bands for saving space, do note to make sure the scaling factor is applied when utilising such data).\n",
        "\n",
        " © 2024 IHE Delft Licenced under CC BY SA Creative Commons"
      ]
    },
    {
      "cell_type": "markdown",
      "metadata": {
        "id": "BBV1JXp_jj7j"
      },
      "source": [
        "---"
      ]
    },
    {
      "cell_type": "markdown",
      "metadata": {
        "id": "uirLoQBqA-Hs"
      },
      "source": [
        "## **Step 0 - Install and load necessary packages**\n",
        "As a check we also report the wapordl version you are using (to use to report an issue)"
      ]
    },
    {
      "cell_type": "code",
      "execution_count": 1,
      "metadata": {
        "id": "3-CeI7rls2_4"
      },
      "outputs": [],
      "source": [
        "%%capture\n",
        "!pip install --upgrade wapordl --quiet\n"
      ]
    },
    {
      "cell_type": "code",
      "execution_count": 2,
      "metadata": {
        "id": "74qweMAtU5C1",
        "colab": {
          "base_uri": "https://localhost:8080/"
        },
        "outputId": "435fab24-b4c0-49e9-d91d-18624228731b"
      },
      "outputs": [
        {
          "output_type": "stream",
          "name": "stderr",
          "text": [
            "INFO: WaPORDL (`1.1.2`)\n"
          ]
        },
        {
          "output_type": "stream",
          "name": "stdout",
          "text": [
            "1.1.2\n"
          ]
        }
      ],
      "source": [
        "import wapordl\n",
        "print(wapordl.__version__)"
      ]
    },
    {
      "cell_type": "markdown",
      "metadata": {
        "id": "5ZGHVNmRs6Bs"
      },
      "source": [
        "#### Import and load required packages"
      ]
    },
    {
      "cell_type": "code",
      "execution_count": 3,
      "metadata": {
        "id": "T3EBB-5f7mcP"
      },
      "outputs": [],
      "source": [
        "# from osgeo import gdal\n",
        "import glob\n",
        "import os\n",
        "from wapordl import wapor_map\n",
        "from wapordl import wapor_ts"
      ]
    },
    {
      "cell_type": "markdown",
      "metadata": {
        "id": "llH9UoaqIsAN"
      },
      "source": [
        "\n",
        "\n",
        "---\n",
        "\n"
      ]
    },
    {
      "cell_type": "markdown",
      "metadata": {
        "id": "rtlfEcFHBTUy"
      },
      "source": [
        "## **Step 1 - Upload a geojson file to define the boundary of area of interest**\n",
        "Area of interest can be defined either by providing a geojson file or by bounding box (coordinates of the extent of the area of interest). In this step you can upload your geojson file. If you decide to use the bounding box approach you can skip this step.\n",
        "\n",
        "*NOTE*: wapordl only support geojson file format at the moment. If you have a file in other format, you can use QGIS to export it as geojson.\n",
        "\n"
      ]
    },
    {
      "cell_type": "code",
      "execution_count": 4,
      "metadata": {
        "id": "DI1-Uc7JQETk",
        "colab": {
          "base_uri": "https://localhost:8080/",
          "height": 73
        },
        "outputId": "1020ed03-a0f2-481a-cea3-d9cd311c186a"
      },
      "outputs": [
        {
          "output_type": "display_data",
          "data": {
            "text/plain": [
              "<IPython.core.display.HTML object>"
            ],
            "text/html": [
              "\n",
              "     <input type=\"file\" id=\"files-d5b03969-b120-477c-b272-63a5b57998b0\" name=\"files[]\" multiple disabled\n",
              "        style=\"border:none\" />\n",
              "     <output id=\"result-d5b03969-b120-477c-b272-63a5b57998b0\">\n",
              "      Upload widget is only available when the cell has been executed in the\n",
              "      current browser session. Please rerun this cell to enable.\n",
              "      </output>\n",
              "      <script>// Copyright 2017 Google LLC\n",
              "//\n",
              "// Licensed under the Apache License, Version 2.0 (the \"License\");\n",
              "// you may not use this file except in compliance with the License.\n",
              "// You may obtain a copy of the License at\n",
              "//\n",
              "//      http://www.apache.org/licenses/LICENSE-2.0\n",
              "//\n",
              "// Unless required by applicable law or agreed to in writing, software\n",
              "// distributed under the License is distributed on an \"AS IS\" BASIS,\n",
              "// WITHOUT WARRANTIES OR CONDITIONS OF ANY KIND, either express or implied.\n",
              "// See the License for the specific language governing permissions and\n",
              "// limitations under the License.\n",
              "\n",
              "/**\n",
              " * @fileoverview Helpers for google.colab Python module.\n",
              " */\n",
              "(function(scope) {\n",
              "function span(text, styleAttributes = {}) {\n",
              "  const element = document.createElement('span');\n",
              "  element.textContent = text;\n",
              "  for (const key of Object.keys(styleAttributes)) {\n",
              "    element.style[key] = styleAttributes[key];\n",
              "  }\n",
              "  return element;\n",
              "}\n",
              "\n",
              "// Max number of bytes which will be uploaded at a time.\n",
              "const MAX_PAYLOAD_SIZE = 100 * 1024;\n",
              "\n",
              "function _uploadFiles(inputId, outputId) {\n",
              "  const steps = uploadFilesStep(inputId, outputId);\n",
              "  const outputElement = document.getElementById(outputId);\n",
              "  // Cache steps on the outputElement to make it available for the next call\n",
              "  // to uploadFilesContinue from Python.\n",
              "  outputElement.steps = steps;\n",
              "\n",
              "  return _uploadFilesContinue(outputId);\n",
              "}\n",
              "\n",
              "// This is roughly an async generator (not supported in the browser yet),\n",
              "// where there are multiple asynchronous steps and the Python side is going\n",
              "// to poll for completion of each step.\n",
              "// This uses a Promise to block the python side on completion of each step,\n",
              "// then passes the result of the previous step as the input to the next step.\n",
              "function _uploadFilesContinue(outputId) {\n",
              "  const outputElement = document.getElementById(outputId);\n",
              "  const steps = outputElement.steps;\n",
              "\n",
              "  const next = steps.next(outputElement.lastPromiseValue);\n",
              "  return Promise.resolve(next.value.promise).then((value) => {\n",
              "    // Cache the last promise value to make it available to the next\n",
              "    // step of the generator.\n",
              "    outputElement.lastPromiseValue = value;\n",
              "    return next.value.response;\n",
              "  });\n",
              "}\n",
              "\n",
              "/**\n",
              " * Generator function which is called between each async step of the upload\n",
              " * process.\n",
              " * @param {string} inputId Element ID of the input file picker element.\n",
              " * @param {string} outputId Element ID of the output display.\n",
              " * @return {!Iterable<!Object>} Iterable of next steps.\n",
              " */\n",
              "function* uploadFilesStep(inputId, outputId) {\n",
              "  const inputElement = document.getElementById(inputId);\n",
              "  inputElement.disabled = false;\n",
              "\n",
              "  const outputElement = document.getElementById(outputId);\n",
              "  outputElement.innerHTML = '';\n",
              "\n",
              "  const pickedPromise = new Promise((resolve) => {\n",
              "    inputElement.addEventListener('change', (e) => {\n",
              "      resolve(e.target.files);\n",
              "    });\n",
              "  });\n",
              "\n",
              "  const cancel = document.createElement('button');\n",
              "  inputElement.parentElement.appendChild(cancel);\n",
              "  cancel.textContent = 'Cancel upload';\n",
              "  const cancelPromise = new Promise((resolve) => {\n",
              "    cancel.onclick = () => {\n",
              "      resolve(null);\n",
              "    };\n",
              "  });\n",
              "\n",
              "  // Wait for the user to pick the files.\n",
              "  const files = yield {\n",
              "    promise: Promise.race([pickedPromise, cancelPromise]),\n",
              "    response: {\n",
              "      action: 'starting',\n",
              "    }\n",
              "  };\n",
              "\n",
              "  cancel.remove();\n",
              "\n",
              "  // Disable the input element since further picks are not allowed.\n",
              "  inputElement.disabled = true;\n",
              "\n",
              "  if (!files) {\n",
              "    return {\n",
              "      response: {\n",
              "        action: 'complete',\n",
              "      }\n",
              "    };\n",
              "  }\n",
              "\n",
              "  for (const file of files) {\n",
              "    const li = document.createElement('li');\n",
              "    li.append(span(file.name, {fontWeight: 'bold'}));\n",
              "    li.append(span(\n",
              "        `(${file.type || 'n/a'}) - ${file.size} bytes, ` +\n",
              "        `last modified: ${\n",
              "            file.lastModifiedDate ? file.lastModifiedDate.toLocaleDateString() :\n",
              "                                    'n/a'} - `));\n",
              "    const percent = span('0% done');\n",
              "    li.appendChild(percent);\n",
              "\n",
              "    outputElement.appendChild(li);\n",
              "\n",
              "    const fileDataPromise = new Promise((resolve) => {\n",
              "      const reader = new FileReader();\n",
              "      reader.onload = (e) => {\n",
              "        resolve(e.target.result);\n",
              "      };\n",
              "      reader.readAsArrayBuffer(file);\n",
              "    });\n",
              "    // Wait for the data to be ready.\n",
              "    let fileData = yield {\n",
              "      promise: fileDataPromise,\n",
              "      response: {\n",
              "        action: 'continue',\n",
              "      }\n",
              "    };\n",
              "\n",
              "    // Use a chunked sending to avoid message size limits. See b/62115660.\n",
              "    let position = 0;\n",
              "    do {\n",
              "      const length = Math.min(fileData.byteLength - position, MAX_PAYLOAD_SIZE);\n",
              "      const chunk = new Uint8Array(fileData, position, length);\n",
              "      position += length;\n",
              "\n",
              "      const base64 = btoa(String.fromCharCode.apply(null, chunk));\n",
              "      yield {\n",
              "        response: {\n",
              "          action: 'append',\n",
              "          file: file.name,\n",
              "          data: base64,\n",
              "        },\n",
              "      };\n",
              "\n",
              "      let percentDone = fileData.byteLength === 0 ?\n",
              "          100 :\n",
              "          Math.round((position / fileData.byteLength) * 100);\n",
              "      percent.textContent = `${percentDone}% done`;\n",
              "\n",
              "    } while (position < fileData.byteLength);\n",
              "  }\n",
              "\n",
              "  // All done.\n",
              "  yield {\n",
              "    response: {\n",
              "      action: 'complete',\n",
              "    }\n",
              "  };\n",
              "}\n",
              "\n",
              "scope.google = scope.google || {};\n",
              "scope.google.colab = scope.google.colab || {};\n",
              "scope.google.colab._files = {\n",
              "  _uploadFiles,\n",
              "  _uploadFilesContinue,\n",
              "};\n",
              "})(self);\n",
              "</script> "
            ]
          },
          "metadata": {}
        },
        {
          "output_type": "stream",
          "name": "stdout",
          "text": [
            "Saving Bekaa.geojson to Bekaa.geojson\n"
          ]
        }
      ],
      "source": [
        "#To upload file.\n",
        "from google.colab import files\n",
        "uploaded = files.upload()"
      ]
    },
    {
      "cell_type": "markdown",
      "metadata": {
        "id": "XPNh8UgrBt_A"
      },
      "source": [
        "If the script doesnt run, please check if the geojson is in 2D format. (Shapely does currently not support 3D geometries, so the workaround is to [convert your 3D geometries to 2D](https://gis.stackexchange.com/questions/255540/convert-3d-shapefile-to-2d-in-qgis)). For more advanced users you can also link the script to a file stored in your google drive, but then you have to mount your script first."
      ]
    },
    {
      "cell_type": "markdown",
      "metadata": {
        "id": "SAHKRORqItft"
      },
      "source": [
        "\n",
        "\n",
        "---\n",
        "\n"
      ]
    },
    {
      "cell_type": "markdown",
      "metadata": {
        "id": "JTwt1Ng6CUaq"
      },
      "source": [
        "## **Step 2 - Use the wapordl package to download raster files for each variable**\n",
        "\n",
        "To use the wapordl package to download WaPOR data, you need to 1) define the area of interest (either in geojson file or bounding box defined as [xmin, ymin, xmax, ymax]), 2) the variables to download and the time period, and 3) the folder where to save the downloaded files.\n",
        "\n",
        "The variables which can be downloaded include AETI (actual evapotranspiration and interception), T (transpiration), I (interception), E (evaporation), NPP (Net Primary Product), PCP (Precipitation), RET (Reference Evapotranspiration) and RSM (Relative Soil Moisture). There are 3 levels of WaPOR data (L1, L2 and L3) related to the resolution of the data and in terms of temporal resolution, Daily (E), Dekadal (D), Monthly (M) and Annual (A). Check in the [WaPOR portal](https://data.apps.fao.org/wapor/?lang=en) in which temporal resolution the data you want to download is available.\n",
        "\n",
        "Refer to the **[WaPOR overview](https://www.fao.org/in-action/remote-sensing-for-water-productivity/wapor-data/en)** to read more about the WaPOR data, its spatial and temporal coverage and the contents of the database. For the WaPOR variables naming convention, see the image below.\n",
        "\n",
        "![](https://raw.githubusercontent.com/wateraccounting/WaPORMOOC/main/images/WaPOR%20naming%20conventions_update.jpg)"
      ]
    },
    {
      "cell_type": "code",
      "execution_count": 5,
      "metadata": {
        "id": "Fhrwhd5JQCLT",
        "colab": {
          "base_uri": "https://localhost:8080/"
        },
        "outputId": "10296fe8-7a62-4a96-cd6f-3da06cc30752"
      },
      "outputs": [
        {
          "output_type": "stream",
          "name": "stderr",
          "text": [
            "INFO: Found 6 files for L2-AETI-A.\n",
            "INFO: Units are already as requested, no conversion needed.\n",
            "INFO: Splitting single GeoTIFF into multiple unscaled files.\n"
          ]
        }
      ],
      "source": [
        "# 1) define region (remove comment (#) for the option you plan to use)\n",
        "# define region using geojson file (if using a file stored in your google drive, add relative path here)\n",
        "region = r\"/content/Bekaa.geojson\"\n",
        "\n",
        "# define region in bounding box\n",
        "# region = [39.17, 8.32, 39.37, 8.50] # [xmin, ymin, xmax, ymax]\n",
        "\n",
        "# 2) define the variables and timeperiod to download\n",
        "variables = [\"L2-AETI-A\"] #, \"L3-T-D\",\"L3-NPP-D\"]\n",
        "period = [\"2018-01-01\", \"2023-12-31\"]\n",
        "overview = \"NONE\"\n",
        "\n",
        "for var in variables:\n",
        "\n",
        "  # 3) Define a folder to save the downloaded rasters (this will create a temporary folder\n",
        "  # called output, if you want the data to be stored somewhere else change the\n",
        "  # path, this requires mounting of the colab script)\n",
        "  folder = r\"/content/output\"+f\"/{var}\"\n",
        "  if not os.path.exists(folder):\n",
        "          os.makedirs(folder)\n",
        "\n",
        "  if('-E' in var):\n",
        "    unit = \"day\"\n",
        "  elif('-D' in var):\n",
        "    unit = \"dekad\"\n",
        "  elif('-M' in var):\n",
        "    unit = \"month\"\n",
        "  elif ('-A' in var):\n",
        "    unit = \"year\"\n",
        "  else:\n",
        "    unit = \"none\"\n",
        "\n",
        "  fps = wapor_map(region, var, period, folder, separate_unscale = True, unit_conversion = unit)\n"
      ]
    },
    {
      "cell_type": "markdown",
      "metadata": {
        "id": "i2uG2PhMIvJ9"
      },
      "source": [
        "The raster files can be found in the output folder, which can be manually downloaded. Alternatively go to step 3 to use a script for downloading.  \n",
        "\n",
        "---\n",
        "\n"
      ]
    },
    {
      "cell_type": "markdown",
      "metadata": {
        "id": "jF9sxQquGtoH"
      },
      "source": [
        "## **Step 3 - Zip the raster files and download them to local folder**\n",
        "\n",
        "This script will zip the contents of the output folder and download the zipped file to our local computer by running the following cell.\n",
        "\n",
        "*NOTE*: update the extensions if you have changed the output file location."
      ]
    },
    {
      "cell_type": "code",
      "execution_count": 6,
      "metadata": {
        "id": "9isKZdEm9mUs",
        "colab": {
          "base_uri": "https://localhost:8080/",
          "height": 156
        },
        "outputId": "1d67a9e3-9489-463f-834a-402919d5c8aa"
      },
      "outputs": [
        {
          "output_type": "stream",
          "name": "stdout",
          "text": [
            "  adding: content/output/ (stored 0%)\n",
            "  adding: content/output/L2-AETI-A/ (stored 0%)\n",
            "  adding: content/output/L2-AETI-A/Bekaa_L2-AETI-A_NONE_year_2018-01-01.tif (deflated 12%)\n",
            "  adding: content/output/L2-AETI-A/Bekaa_L2-AETI-A_NONE_year_2023-01-01.tif (deflated 12%)\n",
            "  adding: content/output/L2-AETI-A/Bekaa_L2-AETI-A_NONE_year_2022-01-01.tif (deflated 12%)\n",
            "  adding: content/output/L2-AETI-A/Bekaa_L2-AETI-A_NONE_year_2019-01-01.tif (deflated 12%)\n",
            "  adding: content/output/L2-AETI-A/Bekaa_L2-AETI-A_NONE_year_2021-01-01.tif (deflated 12%)\n",
            "  adding: content/output/L2-AETI-A/Bekaa_L2-AETI-A_NONE_year_2020-01-01.tif (deflated 12%)\n"
          ]
        },
        {
          "output_type": "display_data",
          "data": {
            "text/plain": [
              "<IPython.core.display.Javascript object>"
            ],
            "application/javascript": [
              "\n",
              "    async function download(id, filename, size) {\n",
              "      if (!google.colab.kernel.accessAllowed) {\n",
              "        return;\n",
              "      }\n",
              "      const div = document.createElement('div');\n",
              "      const label = document.createElement('label');\n",
              "      label.textContent = `Downloading \"${filename}\": `;\n",
              "      div.appendChild(label);\n",
              "      const progress = document.createElement('progress');\n",
              "      progress.max = size;\n",
              "      div.appendChild(progress);\n",
              "      document.body.appendChild(div);\n",
              "\n",
              "      const buffers = [];\n",
              "      let downloaded = 0;\n",
              "\n",
              "      const channel = await google.colab.kernel.comms.open(id);\n",
              "      // Send a message to notify the kernel that we're ready.\n",
              "      channel.send({})\n",
              "\n",
              "      for await (const message of channel.messages) {\n",
              "        // Send a message to notify the kernel that we're ready.\n",
              "        channel.send({})\n",
              "        if (message.buffers) {\n",
              "          for (const buffer of message.buffers) {\n",
              "            buffers.push(buffer);\n",
              "            downloaded += buffer.byteLength;\n",
              "            progress.value = downloaded;\n",
              "          }\n",
              "        }\n",
              "      }\n",
              "      const blob = new Blob(buffers, {type: 'application/binary'});\n",
              "      const a = document.createElement('a');\n",
              "      a.href = window.URL.createObjectURL(blob);\n",
              "      a.download = filename;\n",
              "      div.appendChild(a);\n",
              "      a.click();\n",
              "      div.remove();\n",
              "    }\n",
              "  "
            ]
          },
          "metadata": {}
        },
        {
          "output_type": "display_data",
          "data": {
            "text/plain": [
              "<IPython.core.display.Javascript object>"
            ],
            "application/javascript": [
              "download(\"download_7f86cd78-43a9-4453-9e10-8c58168d80a0\", \"data.zip\", 2355846)"
            ]
          },
          "metadata": {}
        }
      ],
      "source": [
        "!zip -r /content/data.zip /content/output\n",
        "from google.colab import files\n",
        "files.download(r'/content/data.zip')\n"
      ]
    },
    {
      "cell_type": "code",
      "execution_count": null,
      "metadata": {
        "id": "oEC1npPT7r_o"
      },
      "outputs": [],
      "source": [
        "# # if you want to delete a folder use the code below.\n",
        "# !rm -rf /content/output\n",
        "# !rm -rf /content/tifs\n",
        "# !rm -rf /content/data.zip"
      ]
    }
  ],
  "metadata": {
    "colab": {
      "provenance": []
    },
    "kernelspec": {
      "display_name": "Python 3",
      "name": "python3"
    },
    "language_info": {
      "name": "python"
    }
  },
  "nbformat": 4,
  "nbformat_minor": 0
}