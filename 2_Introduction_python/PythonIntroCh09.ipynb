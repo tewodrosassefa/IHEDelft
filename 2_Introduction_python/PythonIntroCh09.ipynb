{
  "cells": [
    {
      "cell_type": "markdown",
      "metadata": {
        "id": "tfJUZlrpcTya"
      },
      "source": [
        "< [Modules](PythonIntroCh08.ipynb) | [Contents](PythonIntro.ipynb) | [Exception Handling](PythonIntroCh10.ipynb) >"
      ]
    },
    {
      "cell_type": "markdown",
      "metadata": {
        "id": "g8fUPHkkcTyl"
      },
      "source": [
        "# 9. File I/O\n",
        "## 9.1 Introduction\n",
        "Last lesson we learned how to load external code into our program. Without any introduction (like what I usually have), let's delve into file input and output with normal text files, and later the saving and restoring of instances of classes. (Wow, our lingo power has improved greatly!)\n",
        "## 9.2 Opening a file\n",
        "To open a text file you use, well, the `open()` function. Seems sensible. You pass certain parameters to `open()` to tell it in which way the file should be opened - `r` for read only, `w` for writing only (if there is an old file, it will be written over), `a` for appending (adding things on to the end of the file) and `r+` for both reading and writing. But less talk, let's open a file for reading (you can do this in Spyder later in the course). Open a normal text file. We will then print out what we read inside the file:\n",
        "```Python\n",
        "filename = 'C:\\\\temp\\\\readme.txt' # path to file.\\ is an escape character, so you need 2 or use / instead.\n",
        "fl = open(filename, 'r') # Open the file\n",
        "for line in fl:\n",
        "    print(line)\n",
        "fl.close() #close the file\n",
        "```\n",
        "\n",
        "A better way to write this is:\n",
        "```Python\n",
        "filename = 'C:\\\\temp\\\\readme.txt'\n",
        "with open(filename, 'r') as fl:\n",
        "    for line in fl:\n",
        "        print(line)\n",
        "```\n",
        "\n",
        "With the second method you don't have to add `fl.close`, it is automagically closed.\n",
        "\n",
        "Above, we have hardcoded file paths, which can be problematic, especially when your code needs to run on different operating systems with varying path separators (note that Windows uses \\ and Linux /). To address this, Python's built-in `os` module provides a method called `os.path.join`, which intelligently joins multiple strings into a single path using the correct path separator for the operating system.\n",
        "\n",
        "Here's how you can use `os.path.join`:\n",
        "\n",
        "```Python\n",
        "import os\n",
        "\n",
        "# Define the parts of the file path\n",
        "directory = 'C:\\\\temp'\n",
        "filename = 'readme.txt'\n",
        "\n",
        "# Use os.path.join to create the full file path\n",
        "full_path = os.path.join(directory, filename)\n",
        "\n",
        "# Now open the file using the full path\n",
        "with open(full_path, 'r') as file:\n",
        "    for line in file:\n",
        "        print(line)\n",
        "```\n",
        "\n",
        "Now try to create the complete file path by adding code to the following script. Print the result."
      ]
    },
    {
      "cell_type": "code",
      "execution_count": 1,
      "metadata": {
        "id": "hWocf6gucTyo"
      },
      "outputs": [],
      "source": [
        "directory = 'D:\\\\Exercises'\n",
        "filename = 'precipitation.csv'"
      ]
    },
    {
      "cell_type": "markdown",
      "metadata": {
        "id": "B5PR5aCYcTyp"
      },
      "source": [
        "< [Modules](PythonIntroCh08.ipynb) | [Contents](PythonIntro.ipynb) | [Exception Handling](PythonIntroCh10.ipynb) >"
      ]
    }
  ],
  "metadata": {
    "kernelspec": {
      "display_name": "Python 3 (ipykernel)",
      "language": "python",
      "name": "python3"
    },
    "language_info": {
      "codemirror_mode": {
        "name": "ipython",
        "version": 3
      },
      "file_extension": ".py",
      "mimetype": "text/x-python",
      "name": "python",
      "nbconvert_exporter": "python",
      "pygments_lexer": "ipython3",
      "version": "3.9.13"
    },
    "colab": {
      "provenance": []
    }
  },
  "nbformat": 4,
  "nbformat_minor": 0
}