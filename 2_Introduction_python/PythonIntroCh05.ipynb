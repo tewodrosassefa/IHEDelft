{
  "cells": [
    {
      "cell_type": "markdown",
      "metadata": {
        "id": "CgLcb-KwBxOb"
      },
      "source": [
        "< [Functions](PythonIntroCh04.ipynb) | [Contents](PythonIntro.ipynb) | [For Loop](PythonIntroCh06.ipynb) >"
      ]
    },
    {
      "cell_type": "markdown",
      "metadata": {
        "id": "z4vy0L6nBxOg"
      },
      "source": [
        "# 5.\tTuples, Lists, and Dictionaries\n",
        "## 5.1\tIntroduction\n",
        "Your brain still hurting from the last lesson? Never worry, this one will require a little less thought. We're going back to something simple - variables - but a little more in depth.\n",
        "\n",
        "Think about it - variables store one bit of information. They may regurgitate (just not on the carpet...) that information at any point, and their bit of information can be changed at any time. Variables are great at what they do - storing a piece of information that may change over time.\n",
        "\n",
        "But what if you need to store a long list of information, which doesn't change over time? Say, for example, the names of the months of the year. Or maybe a long list of information that does change over time? Say, for example, the crop types in an agricultural area. You might have new crops, or not grow certain crops. What about a crop yields? For that you need to do a bit of referencing - you would have a list of crops, and attached to each of those crops, the crop yield. How would you do that?"
      ]
    },
    {
      "cell_type": "markdown",
      "metadata": {
        "id": "etZqzVAGBxOh"
      },
      "source": [
        "## 5.2\tThe Solution - Lists, Tuples, and Dictionaries\n",
        "For these three problems, Python uses three different solutions - Tuples, Lists, and Dictionaries:\n",
        "* **Lists** are what they seem - a list of values. Each one of them is numbered, starting from zero - the first one is numbered zero, the second 1, the third 2, etc. You can remove values from the list, and add new values to the end. Example: Your crop types.\n",
        "* **Tuples** are just like lists, but you can't change their values. The values that you give it first up, are the values that you are stuck with for the rest of the program. Again, each value is numbered starting from zero, for easy reference. Example: the names of the months of the year.\n",
        "* **Dictionaries** are similar to what their name suggests - a dictionary. In a dictionary, you have an 'index' of words, and for each of them a definition. In Python, the word is called a 'key', and the definition a 'value'. The values in a dictionary aren't numbered - they aren't in any specific order, either - the key does the same thing. You can add, remove, and modify the values in dictionaries. Example: crop yields."
      ]
    },
    {
      "cell_type": "markdown",
      "metadata": {
        "id": "o2bCwXnGBxOi"
      },
      "source": [
        "### 5.2.1 Tuples\n",
        "Tuples are pretty easy to make. You give your tuple a name, then after that the list of values it will carry. For example, the months of the year:"
      ]
    },
    {
      "cell_type": "code",
      "execution_count": 5,
      "metadata": {
        "id": "S0kTCsEGBxOi",
        "outputId": "fb547d58-55b7-483f-f307-5bac3f4377b5",
        "colab": {
          "base_uri": "https://localhost:8080/",
          "height": 35
        }
      },
      "outputs": [
        {
          "output_type": "execute_result",
          "data": {
            "text/plain": [
              "'February'"
            ],
            "application/vnd.google.colaboratory.intrinsic+json": {
              "type": "string"
            }
          },
          "metadata": {},
          "execution_count": 5
        }
      ],
      "source": [
        "months = ('January','February','March','April','May','June',\\\n",
        "'July','August','September','October','November','  December')\n",
        "months[1]"
      ]
    },
    {
      "cell_type": "markdown",
      "metadata": {
        "id": "8IzHiexvBxOk"
      },
      "source": [
        "* Note that the `\\` thingy at the end of the first line carries over that line of code to the next line. It is useful way of making big lines more readable.\n",
        "* Technically you don't have to put those parentheses there (the `(` and `)` thingies) but it stops Python from getting things confused.\n",
        "* You may have spaces after the commas if you feel it necessary - it doesn't really matter"
      ]
    },
    {
      "cell_type": "markdown",
      "metadata": {
        "id": "dGjNX-CoBxOl"
      },
      "source": [
        "Python then organises those values in a handy, numbered index - starting from zero, in the order that you entered them in. It would be organised like this:<br>\n",
        "\n",
        "| Index | Value |\n",
        "| :---: | :---: |\n",
        "| 0 | January |\n",
        "| 1 | February |\n",
        "| 2 | March |\n",
        "| 3 | April |\n",
        "| 4 | May |\n",
        "| 5 | June |\n",
        "| 6 | July |\n",
        "| 7 | August |\n",
        "| 8 | September |\n",
        "| 9 | October |\n",
        "| 10 | November |\n",
        "| 11 | December |\n",
        "And that is tuples! Really easy..."
      ]
    },
    {
      "cell_type": "markdown",
      "metadata": {
        "id": "jrXim6CiBxOl"
      },
      "source": [
        "### 5.2.2 Lists\n",
        "Lists are extremely similar to tuples. Lists are modifiable (or 'mutable', as a programmer may say), so their values can be changed. Most of the time we use lists, not tuples, because we want to easily change the values of things if we need to.\n",
        "\n",
        "Lists are defined very similarly to tuples. Say you have five crops: wheat, corn, rice, barley and potatoes. To put them in a list, you would do this:"
      ]
    },
    {
      "cell_type": "code",
      "execution_count": 7,
      "metadata": {
        "id": "qFaIIVKTBxOm",
        "outputId": "4709d222-80da-4e64-88a5-ae52684e245d",
        "colab": {
          "base_uri": "https://localhost:8080/",
          "height": 35
        }
      },
      "outputs": [
        {
          "output_type": "execute_result",
          "data": {
            "text/plain": [
              "'corn'"
            ],
            "application/vnd.google.colaboratory.intrinsic+json": {
              "type": "string"
            }
          },
          "metadata": {},
          "execution_count": 7
        }
      ],
      "source": [
        "crops = ['wheat', 'corn', 'rice', 'barley', 'potatoes']\n",
        "crops[1]"
      ]
    },
    {
      "cell_type": "markdown",
      "metadata": {
        "id": "hT1mSwDjBxOm"
      },
      "source": [
        "As you see, the code is exactly the same as a tuple, EXCEPT that all the values are put between square brackets, not parentheses. Again, you don't have to have spaces after the comma.\n",
        "\n",
        "You recall values from lists exactly the same as you do with tuples. For example, to print the name of your 3rd crop you would do this:"
      ]
    },
    {
      "cell_type": "code",
      "execution_count": null,
      "metadata": {
        "id": "Ro1Mw4bhBxOn"
      },
      "outputs": [],
      "source": [
        "print(crops[2])"
      ]
    },
    {
      "cell_type": "markdown",
      "metadata": {
        "id": "eBDeg789BxOn"
      },
      "source": [
        "You can also recall a range of examples, like above, for example - `crops[0:2]` would recall your 1st and 2nd crop. Try it in the field above.\n",
        "\n",
        "Where lists come into their own is how they can be modified. To add a value to a list, you use the `append()` function. Let's say you got a new crop: sorghum. To add it to the list you'd do this:"
      ]
    },
    {
      "cell_type": "code",
      "execution_count": 9,
      "metadata": {
        "id": "PoxIbd29BxOn",
        "outputId": "40bd9428-eaa0-4d0e-941b-5bdfbb068045",
        "colab": {
          "base_uri": "https://localhost:8080/"
        }
      },
      "outputs": [
        {
          "output_type": "execute_result",
          "data": {
            "text/plain": [
              "['wheat', 'corn', 'rice', 'barley', 'potatoes', 'sorghum', 'sorghum']"
            ]
          },
          "metadata": {},
          "execution_count": 9
        }
      ],
      "source": [
        "crops.append('sorghum')"
      ]
    },
    {
      "cell_type": "markdown",
      "metadata": {
        "id": "NS2AULS_BxOn"
      },
      "source": [
        "Use the field below to check if the crop has been added to the list."
      ]
    },
    {
      "cell_type": "code",
      "execution_count": 10,
      "metadata": {
        "id": "AK12WrIkBxOo",
        "outputId": "253a8f1b-3844-45d2-aa93-3cbdf6a2be95",
        "colab": {
          "base_uri": "https://localhost:8080/"
        }
      },
      "outputs": [
        {
          "output_type": "stream",
          "name": "stdout",
          "text": [
            "['wheat', 'corn', 'rice', 'barley', 'potatoes', 'sorghum', 'sorghum']\n"
          ]
        }
      ],
      "source": [
        "print(crops)"
      ]
    },
    {
      "cell_type": "markdown",
      "metadata": {
        "id": "ey6GQbiSBxOo"
      },
      "source": [
        "That's a little weird, isn't it? I'll explain. That function is in a funny spot - after a period `.` after the list name. You'll get to see those things more in a later lesson. For the meanwhile, this is the form of the function that adds a new value to a list:\n",
        "```Python\n",
        "#add a new value to the end of a list:\n",
        "list_name.append(value-to-add)\n",
        "\n",
        "#e.g. to add the number 5038 to the list 'numbers':\n",
        "numbers.append(5038)\n",
        "```\n",
        "\n",
        "Clears things up? Good!\n",
        "\n",
        "In the new growing season, we don't have corn, so we need to remove it."
      ]
    },
    {
      "cell_type": "code",
      "execution_count": 11,
      "metadata": {
        "id": "uNWXsUIoBxOo"
      },
      "outputs": [],
      "source": [
        "#Remove your 2nd crop, corn.\n",
        "del crops[1]"
      ]
    },
    {
      "cell_type": "markdown",
      "metadata": {
        "id": "o1hH_0aEBxOo"
      },
      "source": [
        "Check again which crops are in the list:"
      ]
    },
    {
      "cell_type": "code",
      "execution_count": 12,
      "metadata": {
        "id": "iEvRCSJYBxOo",
        "outputId": "3877e3e8-0527-4acd-93f6-d6a199945a7a",
        "colab": {
          "base_uri": "https://localhost:8080/"
        }
      },
      "outputs": [
        {
          "output_type": "stream",
          "name": "stdout",
          "text": [
            "['wheat', 'rice', 'barley', 'potatoes', 'sorghum', 'sorghum']\n"
          ]
        }
      ],
      "source": [
        "print(crops)"
      ]
    },
    {
      "cell_type": "markdown",
      "metadata": {
        "id": "ZRyFe5oTBxOp"
      },
      "source": [
        "You've just removed the 2nd crop in your list!"
      ]
    },
    {
      "cell_type": "markdown",
      "metadata": {
        "id": "Q-rmXrwTBxOp"
      },
      "source": [
        "### 5.3 Dictionaries\n",
        "Alright, so there’s more to agriculture than just crops. You need to know the yield of wheat, corn, rice, barley, and any other crop that’s important to your farm. For that, you need a yield record.\n",
        "\n",
        "Now, the lists we’ve used above aren’t really suitable for a yield record. You need to know a yield based on a crop’s name - not the other way around. In the examples of months and crops, we gave the computer a number, and it gave us a name. This time we want to give the computer a name, and it gives us a number. For this we need *Dictionaries*.\n",
        "\n",
        "No need for any farming equipment, it’s not that kind of field work. Remember, dictionaries have keys, and values. In a yield record, you have crops’ names, then their yields.\n",
        "\n",
        "When you initially create a dictionary, it is very much like making a tuple or list. Tuples have `(` and `)` things, lists have `[` and `]` things. Guess what! Dictionaries have `{` and `}` things - curly braces. Here is an example below, showing a dictionary with four crop yields in it:"
      ]
    },
    {
      "cell_type": "code",
      "execution_count": 23,
      "metadata": {
        "id": "KdYxOEFeBxOp",
        "outputId": "a7e46c8b-91f8-4508-f509-5023e7768095",
        "colab": {
          "base_uri": "https://localhost:8080/"
        }
      },
      "outputs": [
        {
          "output_type": "stream",
          "name": "stdout",
          "text": [
            "{'wheat': 1200, 'corn': 1500, 'rice': 1000, 'barley': 900}\n",
            "1000\n"
          ]
        }
      ],
      "source": [
        "#Make the crop yield (kg) dictionary:\n",
        "crop_yield = {'wheat':1200, \\\n",
        "'corn':1500, 'rice':1000, \\\n",
        "'barley':900}\n",
        "print(crop_yield)\n",
        "print(crop_yield['rice'])"
      ]
    },
    {
      "cell_type": "markdown",
      "metadata": {
        "id": "7eOISNPNBxOq"
      },
      "source": [
        "Note that we can also write the dictionary in a more readable way:\n",
        "```Python\n",
        "crop_yield = {\n",
        "    'wheat':1200,\n",
        "    'corn':1500,\n",
        "    'rice':1000,\n",
        "    'barley':900\n",
        "}\n",
        "```"
      ]
    },
    {
      "cell_type": "markdown",
      "metadata": {
        "id": "-jmYg8xbBxOq"
      },
      "source": [
        "When you run it you see that the crop yield of rice is printed onscreen. Notice how instead of identifying the value by a number, like in the crop list and months tuple examples, we identify the value, using another value - in this case the crop type.\n",
        "\n",
        "Ok, you've created a crop yield dictionary. Now you want to add new yields to the dictionary. What do you do? A very simple line of code:"
      ]
    },
    {
      "cell_type": "code",
      "execution_count": 19,
      "metadata": {
        "id": "crSoygppBxOq"
      },
      "outputs": [],
      "source": [
        "#Add the crop 'sorghum' to the dictionary:\n",
        "crop_yield['sorghum'] = 1400"
      ]
    },
    {
      "cell_type": "markdown",
      "metadata": {
        "id": "mWIHlkvqBxOq"
      },
      "source": [
        "All that line is saying is that there is a crop type *sorghum* in the dictionary, and its yield is *1400* kg. In other words - the key is `sorghum`, and the value is `1400`."
      ]
    },
    {
      "cell_type": "markdown",
      "metadata": {
        "id": "M19Pl4c6BxOq"
      },
      "source": [
        "Check if it's added using the field below."
      ]
    },
    {
      "cell_type": "code",
      "execution_count": null,
      "metadata": {
        "id": "cEume5uFBxOr"
      },
      "outputs": [],
      "source": []
    },
    {
      "cell_type": "markdown",
      "metadata": {
        "id": "xuZpF3LLBxOr"
      },
      "source": [
        "You delete entries in a dictionary just like in a list. Let's say in the next growing season corn is not harvested. Just like in a list, you'd do this:"
      ]
    },
    {
      "cell_type": "code",
      "execution_count": 25,
      "metadata": {
        "id": "xRqc1RZsBxOr",
        "outputId": "ac75a630-7abe-4097-ea3d-c0705ca8a16e",
        "colab": {
          "base_uri": "https://localhost:8080/",
          "height": 159
        }
      },
      "outputs": [
        {
          "output_type": "error",
          "ename": "KeyError",
          "evalue": "'corn'",
          "traceback": [
            "\u001b[0;31m---------------------------------------------------------------------------\u001b[0m",
            "\u001b[0;31mKeyError\u001b[0m                                  Traceback (most recent call last)",
            "\u001b[0;32m<ipython-input-25-08b3c2c5348d>\u001b[0m in \u001b[0;36m<cell line: 0>\u001b[0;34m()\u001b[0m\n\u001b[0;32m----> 1\u001b[0;31m \u001b[0;32mdel\u001b[0m \u001b[0mcrop_yield\u001b[0m\u001b[0;34m[\u001b[0m\u001b[0;34m'corn'\u001b[0m\u001b[0;34m]\u001b[0m\u001b[0;34m\u001b[0m\u001b[0;34m\u001b[0m\u001b[0m\n\u001b[0m\u001b[1;32m      2\u001b[0m \u001b[0mcrop_yield\u001b[0m\u001b[0;34m\u001b[0m\u001b[0;34m\u001b[0m\u001b[0m\n",
            "\u001b[0;31mKeyError\u001b[0m: 'corn'"
          ]
        }
      ],
      "source": [
        "del crop_yield['corn']"
      ]
    },
    {
      "cell_type": "markdown",
      "metadata": {
        "id": "UD5ehd_lBxOr"
      },
      "source": [
        "Again, very easy. The `del` operator deletes any function, variable, or entry in a list or dictionary. (An entry in a dictionary is just a variable with a number or text string as a name. This comes in handy later on.)"
      ]
    },
    {
      "cell_type": "markdown",
      "metadata": {
        "id": "Ygge5tXeBxOr"
      },
      "source": [
        "Check if the number is gone using the field below."
      ]
    },
    {
      "cell_type": "code",
      "execution_count": null,
      "metadata": {
        "id": "J-r0r1xRBxOs"
      },
      "outputs": [],
      "source": []
    },
    {
      "cell_type": "markdown",
      "metadata": {
        "id": "D9ckHDAaBxOs"
      },
      "source": [
        "Remember that append function that we used with the list? Well, there are quite a few of those that can be used with dictionaries. Below, I will write you a program, and it will incorporate some of those functions in. It will have comments along the way explaining what it does. Experiment as much as you like with it."
      ]
    },
    {
      "cell_type": "code",
      "execution_count": 26,
      "metadata": {
        "id": "O5Th2AakBxOs",
        "outputId": "aae2956e-d80a-46c3-a303-5ecbdcd703e6",
        "colab": {
          "base_uri": "https://localhost:8080/"
        }
      },
      "outputs": [
        {
          "output_type": "stream",
          "name": "stdout",
          "text": [
            "Wheat is in the dictionary. Its yield is 1200 kg per acre\n",
            "The following crops are in the dictionary:\n",
            "dict_keys(['Wheat', 'Corn', 'Rice', 'Barley'])\n",
            "Crops yield the following (in kg per acre): dict_values([1200, 1500, 1000, 900])\n",
            "dict_keys(['Wheat', 'Corn', 'Rice', 'Barley'])\n",
            "['Barley', 'Corn', 'Rice', 'Wheat']\n",
            "dict_values([1200, 1500, 1000, 900])\n",
            "[900, 1000, 1200, 1500]\n",
            "The dictionary has 4 entries in it\n"
          ]
        }
      ],
      "source": [
        "# First we define the dictionary\n",
        "# it will have nothing in it this time\n",
        "crop_yield = {}\n",
        "\n",
        "# Add a couple of crops to the dictionary\n",
        "crop_yield['Wheat'] = 1200  # Yield in kg per acre\n",
        "crop_yield['Corn'] = 1500\n",
        "crop_yield['Rice'] = 1000\n",
        "crop_yield['Barley'] = 900\n",
        "\n",
        "# Use an 'if' statement to find a key in the list.\n",
        "if 'Wheat' in crop_yield:\n",
        "    print(\"Wheat is in the dictionary. Its yield is\", \\\n",
        "crop_yield['Wheat'], \"kg per acre\")\n",
        "else:\n",
        "    print(\"Wheat is not in the dictionary\")\n",
        "\n",
        "# Use the function keys() -\n",
        "print(\"The following crops are in the dictionary:\")\n",
        "print(crop_yield.keys())\n",
        "\n",
        "# You could use this function to\n",
        "# put all the key names in a list:\n",
        "keys = crop_yield.keys()\n",
        "\n",
        "# You can also get a list\n",
        "# of all the values in a dictionary.\n",
        "print(\"Crops yield the following (in kg per acre):\", \\\n",
        "crop_yield.values())\n",
        "\n",
        "# Put it in a list:\n",
        "values = crop_yield.values()\n",
        "\n",
        "# You can sort lists, with the sorted() function\n",
        "print(keys)\n",
        "sortedkeys = sorted(keys)\n",
        "print(sortedkeys)\n",
        "\n",
        "print(values)\n",
        "sortedvalues = sorted(values)\n",
        "print(sortedvalues)\n",
        "\n",
        "# You can find the number of entries\n",
        "# with the len() function:\n",
        "print(\"The dictionary has\", \\\n",
        "len(crop_yield), \"entries in it\")"
      ]
    },
    {
      "cell_type": "markdown",
      "metadata": {
        "id": "kDgdrTqeBxOs"
      },
      "source": [
        "## 5.4 Assignment\n",
        "1. Define a tuple for growing seasons.\n",
        "2. Define a list to keep track of animals on a farm.\n",
        "3. Create a dictionary with crop prices."
      ]
    },
    {
      "cell_type": "code",
      "execution_count": null,
      "metadata": {
        "id": "SBq98nfGBxOs"
      },
      "outputs": [],
      "source": []
    },
    {
      "cell_type": "markdown",
      "metadata": {
        "id": "HrStDKhsBxOs"
      },
      "source": [
        "## 5.5 Conclusion\n",
        "There are many other functions you can use to work with lists and dictionaries - too many to go through right now. We'll leave the lesson at this point - you have learnt enough for one lesson."
      ]
    },
    {
      "cell_type": "markdown",
      "metadata": {
        "id": "2xR3jrcbBxOt"
      },
      "source": [
        "< [Functions](PythonIntroCh04.ipynb) | [Contents](PythonIntro.ipynb) | [For Loop](PythonIntroCh06.ipynb) >"
      ]
    }
  ],
  "metadata": {
    "kernelspec": {
      "display_name": "Python 3 (ipykernel)",
      "language": "python",
      "name": "python3"
    },
    "language_info": {
      "codemirror_mode": {
        "name": "ipython",
        "version": 3
      },
      "file_extension": ".py",
      "mimetype": "text/x-python",
      "name": "python",
      "nbconvert_exporter": "python",
      "pygments_lexer": "ipython3",
      "version": "3.12.2"
    },
    "colab": {
      "provenance": []
    }
  },
  "nbformat": 4,
  "nbformat_minor": 0
}