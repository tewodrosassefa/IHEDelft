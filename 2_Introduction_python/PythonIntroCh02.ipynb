{
  "cells": [
    {
      "cell_type": "markdown",
      "metadata": {
        "id": "TezW4LQrlNCm"
      },
      "source": [
        "< [Very simple 'programs'](PythonIntroCh01.ipynb) | [Contents](PythonIntro.ipynb) | [Loops, Loops, Loops, Loops...](PythonIntroCh3.ipynb) >"
      ]
    },
    {
      "cell_type": "markdown",
      "metadata": {
        "id": "d7PmJgVNlNCq"
      },
      "source": [
        "# 2. Programs in a file, variables and strings\n",
        "## 2.1 Introduction\n",
        "Well, we can make one-liner programs. So What? You want to send programs to other people, so that they can use them, without knowing how to write them.\n",
        "## 2.2 Writing scripts\n",
        "Writing programs in Python to a file is VERY easy. Python programs are simply text documents - you can open them up in notepad, and have a look at them, just like that.\n",
        "In practice, however, you will use a so called __[Integrated Development Environment (IDE)](https://en.wikipedia.org/wiki/Integrated_development_environment)__ to develop your scripts.\n",
        "\n",
        "In this tutorial we'll use the Jupyter Notebook interactive fields as an IDE and **simulate** how we use Python scripts in files. _So you don't need to create files, but just use this notebook_.\n",
        "\n",
        "Have a look at the program (`mary.py`) below:"
      ]
    },
    {
      "cell_type": "code",
      "execution_count": null,
      "metadata": {
        "id": "D1X139jglNCr"
      },
      "outputs": [],
      "source": [
        "#A simple program.\n",
        "print(\"Mary had a little lamb\")\n",
        "print(\"it's fleece was white as snow;\")\n",
        "print(\"and everywhere that Mary went\", end = \" \")\n",
        "print(\"her lamb was sure to go.\")"
      ]
    },
    {
      "cell_type": "markdown",
      "metadata": {
        "id": "nbeiFllSlNCt"
      },
      "source": [
        "If you run the script (`<shift> + <Return>`) it will execute lines 1 to 5 after each other. In an IDE there's always a screen where you can type the code with syntax highlighting (like in the cells of this Jupyter Notebook), a window where you can see the output and a button to run the script. The scripts are saved as `.py` files. These can be run from your command line - Open the terminal window, go to the folder and then type `Python mary.py`. Your program will now execute in the command line.\n",
        "\n",
        "In line 4 `end = \" \"` inserts a space instead of a new line at the end of the `print` operator."
      ]
    },
    {
      "cell_type": "markdown",
      "metadata": {
        "id": "EYAbNs3WlNCu"
      },
      "source": [
        "## 2.3 Variables\n",
        "Now let's start introducing variables. Variables store a value, that can be looked at or changed at a later time. Let's make a program that uses variables:"
      ]
    },
    {
      "cell_type": "code",
      "execution_count": null,
      "metadata": {
        "id": "R9EMj6iClNCu"
      },
      "outputs": [],
      "source": [
        "#variables demonstrated\n",
        "print(\"This program is a demo of variables\")\n",
        "v = 1\n",
        "print(\"The value of v is now\", v)\n",
        "v = v + 1\n",
        "print(\"v now equals itself plus one, making it worth\", v)\n",
        "v = 51\n",
        "print(\"v can store any numerical value, to be used elsewhere.\")\n",
        "print(\"for example, in a sentence. v is now worth\", v)\n",
        "print(\"v times 5 equals\", v * 5)\n",
        "print(\"but v still only remains\", v)\n",
        "print(\"to make v five times bigger, you would have to type v = v * 5\")\n",
        "v = v * 5\n",
        "print(\"there you go, now v equals\", v, \"and not\", v / 5)"
      ]
    },
    {
      "cell_type": "markdown",
      "metadata": {
        "id": "j7Qh3ZKllNCu"
      },
      "source": [
        "Run the script and try to understand the results."
      ]
    },
    {
      "cell_type": "markdown",
      "metadata": {
        "id": "PWVCOu-mlNCv"
      },
      "source": [
        "Note that we can also write `v = v + 1` as `v += 1`. This can be used for all operators (e.g. `-=`, `*=`,`/=`). Try it in the code above.\n",
        "\n",
        "It is good practice to use lowercase for variables. Don't use special characters and don't start with a number!"
      ]
    },
    {
      "cell_type": "markdown",
      "metadata": {
        "id": "vUNXrDF3lNCv"
      },
      "source": [
        "## 2.5 Strings\n",
        "As you can see, variables store values, for use at a later time. You can change them at any time. You can put in more than numbers, though. Variables can hold things like text. A variable that holds text is called a string. Try this program:"
      ]
    },
    {
      "cell_type": "code",
      "execution_count": null,
      "metadata": {
        "id": "xofAz60wlNCv"
      },
      "outputs": [],
      "source": [
        "#giving variables text, and adding text.\n",
        "word1 = \"Good\"\n",
        "word2 = \"morning\"\n",
        "word3 = \"to you too!\"\n",
        "print(word1, word2)\n",
        "sentence = word1 + \" \" + word2 + \" \" + word3\n",
        "print(sentence)"
      ]
    },
    {
      "cell_type": "code",
      "source": [
        "#giving variables text, and adding text.\n",
        "word1 = \"Good\"\n",
        "word2 = \"morning\"\n",
        "word3 = \"to you too!\"\n",
        "print(word1, word2)\n",
        "sentence = word1 + \" \" + word2 + \" \" + word3\n",
        "print(sentence)"
      ],
      "metadata": {
        "id": "Eq5YRlGClo1g",
        "outputId": "efb0634d-93db-4664-cce9-b8064283e2ac",
        "colab": {
          "base_uri": "https://localhost:8080/"
        }
      },
      "execution_count": 1,
      "outputs": [
        {
          "output_type": "stream",
          "name": "stdout",
          "text": [
            "Good morning\n",
            "Good morning to you too!\n"
          ]
        }
      ]
    },
    {
      "cell_type": "markdown",
      "metadata": {
        "id": "C-UhKeWclNCw"
      },
      "source": [
        "As you see, the variables above were holding text. Variable names can also be longer than one letter - here, we had `word1`, `word2`, and `word3`. As you can also see, strings can be added together to make longer words or sentences. However, it doesn't add spaces in between the words - hence me putting in the `\" \"` things (there is one space between those).\n",
        "\n",
        "Often we need to manipulate strings. For example if we want to edit file names or make selections from text. Strings are similar to `lists` that you will learn later. So similar operations (called *list slicing*) apply to strings.\n",
        "\n",
        "Try the following code and explain what it does:"
      ]
    },
    {
      "cell_type": "code",
      "execution_count": 3,
      "metadata": {
        "colab": {
          "base_uri": "https://localhost:8080/"
        },
        "id": "3eH4Za50lNCw",
        "outputId": "38e8a2ab-0b8e-4078-f61e-e1c48556eb65"
      },
      "outputs": [
        {
          "output_type": "execute_result",
          "data": {
            "text/plain": [
              "10"
            ]
          },
          "metadata": {},
          "execution_count": 3
        }
      ],
      "source": [
        "text = \"abcdefghij\"\n",
        "len(text)"
      ]
    },
    {
      "cell_type": "markdown",
      "metadata": {
        "id": "2w4JBkWHlNCw"
      },
      "source": [
        "Yes, it shows us the amount of characters in a string.\n",
        "\n",
        "Now try this:"
      ]
    },
    {
      "cell_type": "code",
      "execution_count": 4,
      "metadata": {
        "colab": {
          "base_uri": "https://localhost:8080/"
        },
        "id": "5rLNGVwklNCw",
        "outputId": "ec37d31f-e4c0-4095-fc54-ae3096e5580f"
      },
      "outputs": [
        {
          "output_type": "stream",
          "name": "stdout",
          "text": [
            "e\n"
          ]
        }
      ],
      "source": [
        "print(text[4])"
      ]
    },
    {
      "cell_type": "markdown",
      "metadata": {
        "id": "Gtf2pm2ulNCw"
      },
      "source": [
        "Here we want to print the character at position 4. Note that the first character \"a\" is at position 0! So position 4 gives us back \"e\".\n",
        "\n",
        "Now try:"
      ]
    },
    {
      "cell_type": "code",
      "execution_count": 5,
      "metadata": {
        "colab": {
          "base_uri": "https://localhost:8080/"
        },
        "id": "ZcQ447kwlNCx",
        "outputId": "168ae0d2-9c19-4a1c-f17e-1d744431ec4b"
      },
      "outputs": [
        {
          "output_type": "stream",
          "name": "stdout",
          "text": [
            "abcd\n"
          ]
        }
      ],
      "source": [
        "print(text[:4])"
      ]
    },
    {
      "cell_type": "code",
      "execution_count": 6,
      "metadata": {
        "colab": {
          "base_uri": "https://localhost:8080/"
        },
        "id": "zgywX2sylNCx",
        "outputId": "f1db6292-6a41-4173-e4e4-f19371426d90"
      },
      "outputs": [
        {
          "output_type": "stream",
          "name": "stdout",
          "text": [
            "efghij\n"
          ]
        }
      ],
      "source": [
        "print(text[4:])"
      ]
    },
    {
      "cell_type": "markdown",
      "metadata": {
        "id": "MGMgfLiTlNCx"
      },
      "source": [
        "Here you see that `[:4]` selects characters 0,1,2,3, which is \"abcd\". With `[4:]` we start with position 4 (counting from 0!) until the end of the string, which results in \"efghij\".\n",
        "\n",
        "We can also specify a range. Try this:"
      ]
    },
    {
      "cell_type": "code",
      "execution_count": 7,
      "metadata": {
        "colab": {
          "base_uri": "https://localhost:8080/"
        },
        "id": "wpfnxkxdlNCx",
        "outputId": "e996eba8-6738-4a74-945c-e1ea56ee63a7"
      },
      "outputs": [
        {
          "output_type": "stream",
          "name": "stdout",
          "text": [
            "efgh\n"
          ]
        }
      ],
      "source": [
        "print(text[4:8])"
      ]
    },
    {
      "cell_type": "markdown",
      "metadata": {
        "id": "D8E0Vdw-lNCx"
      },
      "source": [
        "Was it what you expected?\n",
        "With ranges, the maximum value is not included in the selection.\n",
        "\n",
        "We still have the variable `sentence` available. Write code below to select the second word of the sentence using the correct range."
      ]
    },
    {
      "cell_type": "code",
      "execution_count": null,
      "metadata": {
        "id": "ueXXTVBslNCx"
      },
      "outputs": [],
      "source": []
    },
    {
      "cell_type": "markdown",
      "metadata": {
        "id": "AVt7PPLhlNCy"
      },
      "source": [
        "Now try this:"
      ]
    },
    {
      "cell_type": "code",
      "execution_count": 11,
      "metadata": {
        "colab": {
          "base_uri": "https://localhost:8080/"
        },
        "id": "MSpuOz-rlNCy",
        "outputId": "7bd94439-5d28-41c7-eb15-2f2b29c296b1"
      },
      "outputs": [
        {
          "output_type": "stream",
          "name": "stdout",
          "text": [
            "i\n"
          ]
        }
      ],
      "source": [
        "print(text[-2])"
      ]
    },
    {
      "cell_type": "markdown",
      "metadata": {
        "id": "I5OjpN_ElNCy"
      },
      "source": [
        "What did it do?\n",
        "\n",
        "Right, you have selected the second character from the right! Note that here we start counting with -1 for the first character on the right.\n",
        "\n",
        "Try this:"
      ]
    },
    {
      "cell_type": "code",
      "execution_count": 9,
      "metadata": {
        "colab": {
          "base_uri": "https://localhost:8080/"
        },
        "id": "gh3Y6sQglNCy",
        "outputId": "d2125ded-2bdb-4f3a-ca88-df05694933df"
      },
      "outputs": [
        {
          "output_type": "stream",
          "name": "stdout",
          "text": [
            "ghij\n"
          ]
        }
      ],
      "source": [
        "print(text[-4:])"
      ]
    },
    {
      "cell_type": "markdown",
      "metadata": {
        "id": "ethSiiuflNCy"
      },
      "source": [
        "In human language: start with the 4th character from the right and give me all characters from that position to the end of the string.\n",
        "\n",
        "Now try this and find out what it does:"
      ]
    },
    {
      "cell_type": "code",
      "execution_count": 10,
      "metadata": {
        "colab": {
          "base_uri": "https://localhost:8080/"
        },
        "id": "R0LhIzjylNCy",
        "outputId": "874869c9-d9e8-4009-9856-3bf197472aac"
      },
      "outputs": [
        {
          "output_type": "stream",
          "name": "stdout",
          "text": [
            "acegi\n"
          ]
        }
      ],
      "source": [
        "print(text[::2])"
      ]
    },
    {
      "cell_type": "markdown",
      "metadata": {
        "id": "oLEpslAqlNCz"
      },
      "source": [
        "We can also add the results of the *list slicing* to variables and insert this into strings using the format operation:"
      ]
    },
    {
      "cell_type": "code",
      "execution_count": 12,
      "metadata": {
        "colab": {
          "base_uri": "https://localhost:8080/"
        },
        "id": "B4JPm3cWlNCz",
        "outputId": "2c888004-ecfe-4faa-bc09-d3e5e1c464ef"
      },
      "outputs": [
        {
          "output_type": "stream",
          "name": "stdout",
          "text": [
            "The sentence has 24 characters and the last word is: too\n"
          ]
        }
      ],
      "source": [
        "nrOfCharacters = len(sentence)\n",
        "lastWord = sentence[-4:-1]\n",
        "print(\"The sentence has {} characters and the last word is: {}\".format(nrOfCharacters,lastWord))"
      ]
    },
    {
      "cell_type": "markdown",
      "metadata": {
        "id": "iktYPlEqlNCz"
      },
      "source": [
        "So you can easily insert variables at the places of the accolades (`{}`). They will be substituted in the same order of the variables in `.format()`"
      ]
    },
    {
      "cell_type": "markdown",
      "metadata": {
        "id": "hC4SwXtqlNCz"
      },
      "source": [
        "This can also be written as:"
      ]
    },
    {
      "cell_type": "code",
      "execution_count": 13,
      "metadata": {
        "colab": {
          "base_uri": "https://localhost:8080/"
        },
        "id": "3-QpEQrzlNCz",
        "outputId": "d4552198-232c-409a-fa37-95f2e15c4362"
      },
      "outputs": [
        {
          "output_type": "stream",
          "name": "stdout",
          "text": [
            "The sentence has 24 characters and the last word is: too\n"
          ]
        }
      ],
      "source": [
        "print(f\"The sentence has {nrOfCharacters} characters and the last word is: {lastWord}\")"
      ]
    },
    {
      "cell_type": "markdown",
      "metadata": {
        "id": "UqeHFDlGlNCz"
      },
      "source": [
        "Besides *list slicing* there are also other operations that we can apply to strings.\n",
        "We can count the number of occurences of a specific character in a string:"
      ]
    },
    {
      "cell_type": "code",
      "execution_count": null,
      "metadata": {
        "id": "ZniB6amplNC0"
      },
      "outputs": [],
      "source": [
        "print(sentence.count('o'))"
      ]
    },
    {
      "cell_type": "markdown",
      "metadata": {
        "id": "W23JQpHBlNC0"
      },
      "source": [
        "We can also find the position of character:"
      ]
    },
    {
      "cell_type": "code",
      "execution_count": null,
      "metadata": {
        "id": "SVfdcZmIlNC0"
      },
      "outputs": [],
      "source": [
        "print(text.find('e'))"
      ]
    },
    {
      "cell_type": "code",
      "execution_count": 15,
      "metadata": {
        "colab": {
          "base_uri": "https://localhost:8080/"
        },
        "id": "3Kb7Bu9ylNC0",
        "outputId": "fa80178f-96b2-44c8-be74-d8b4e049c60f"
      },
      "outputs": [
        {
          "output_type": "stream",
          "name": "stdout",
          "text": [
            "17\n"
          ]
        }
      ],
      "source": [
        "sometext = \"Hey you, how are you doing?\"\n",
        "print(sometext.rfind(\"you\"))"
      ]
    },
    {
      "cell_type": "markdown",
      "metadata": {
        "id": "UqO6PqU6lNC0"
      },
      "source": [
        "`rfind` returns the lasts occurance of a string. So in `sometext` we have the word \"you\" twice. `rfind` returns `17` meaning that the last time that it found \"you\" is starting at position 17 (counting from 0).\n",
        "\n",
        "There are a few other useful string operations. Run the code below and will be obvious what it does:"
      ]
    },
    {
      "cell_type": "code",
      "execution_count": 16,
      "metadata": {
        "colab": {
          "base_uri": "https://localhost:8080/"
        },
        "id": "q0ArRJAElNC0",
        "outputId": "b7939caf-e14a-461b-90cc-6c429bcd1229"
      },
      "outputs": [
        {
          "output_type": "stream",
          "name": "stdout",
          "text": [
            "HEY YOU, HOW ARE YOU DOING?\n",
            "['Hey you', ' how are you doing?']\n",
            "Hey you, how are you doing!\n"
          ]
        }
      ],
      "source": [
        "# Changes the string to upper case\n",
        "print(sometext.upper())\n",
        "\n",
        "# Splits the string on a character and returns it as list items. You'll learn about lists later\n",
        "print(sometext.split(\",\"))\n",
        "\n",
        "# Replaces strings\n",
        "print(sometext.replace(\"?\",\"!\"))"
      ]
    },
    {
      "cell_type": "markdown",
      "metadata": {
        "id": "ef7Jp_L8lNC1"
      },
      "source": [
        "There are also some special characters:\n",
        "\n",
        "`\\n` jumps to a new line\n",
        "\n",
        "`\\` is an escape character. You can put it before another character that has a meaning in the code and is not considered a string. This is often used to have strings with backslashes for file names on Windows (e.g. `\"C:\\\\folder\\\\filename.txt\"`). Because `\\` is already an escape character we need to use it twice to escape the escape character!\n",
        "\n",
        "Try to print the following path: *D:\\My Documents\\readme.txt*"
      ]
    },
    {
      "cell_type": "code",
      "execution_count": null,
      "metadata": {
        "id": "oCgaCs4zlNC1"
      },
      "outputs": [],
      "source": []
    },
    {
      "cell_type": "markdown",
      "metadata": {
        "id": "uHsz_esilNC2"
      },
      "source": [
        "Another example:"
      ]
    },
    {
      "cell_type": "code",
      "execution_count": null,
      "metadata": {
        "id": "o4IVWmkilNC2"
      },
      "outputs": [],
      "source": [
        "print(\"This is a very long sentence and I want to split it into two lines.\")\n",
        "print(\"This is a very long sentence\\nand I want to split it into two lines.\")\n",
        "\n",
        "print(\"This sentence contains a quote and I don't want the string to end (yet)\\\"\")"
      ]
    },
    {
      "cell_type": "markdown",
      "metadata": {
        "id": "oA1wpbbclNC2"
      },
      "source": [
        "## 2.6 Conclusion\n",
        "Well done! We now understand longer programs, and know the use of variables. We can also manipulate strings. Next lesson, we look at loops, what they are, and how to use them."
      ]
    },
    {
      "cell_type": "markdown",
      "metadata": {
        "id": "rScC48QilNC2"
      },
      "source": [
        "< [Very simple 'programs'](PythonIntroCh01.ipynb) | [Contents](PythonIntro.ipynb) | [Loops, Loops, Loops, Loops...](PythonIntroCh03.ipynb) >"
      ]
    }
  ],
  "metadata": {
    "kernelspec": {
      "display_name": "Python 3 (ipykernel)",
      "language": "python",
      "name": "python3"
    },
    "language_info": {
      "codemirror_mode": {
        "name": "ipython",
        "version": 3
      },
      "file_extension": ".py",
      "mimetype": "text/x-python",
      "name": "python",
      "nbconvert_exporter": "python",
      "pygments_lexer": "ipython3",
      "version": "3.12.2"
    },
    "colab": {
      "provenance": []
    }
  },
  "nbformat": 4,
  "nbformat_minor": 0
}