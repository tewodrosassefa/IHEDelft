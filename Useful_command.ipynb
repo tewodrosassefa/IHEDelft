{
  "nbformat": 4,
  "nbformat_minor": 0,
  "metadata": {
    "colab": {
      "provenance": [],
      "authorship_tag": "ABX9TyNuA6vwN3V75zX3aVcLr/5E",
      "include_colab_link": true
    },
    "kernelspec": {
      "name": "python3",
      "display_name": "Python 3"
    },
    "language_info": {
      "name": "python"
    }
  },
  "cells": [
    {
      "cell_type": "markdown",
      "metadata": {
        "id": "view-in-github",
        "colab_type": "text"
      },
      "source": [
        "<a href=\"https://colab.research.google.com/github/tewodrosassefa/IHEDelft/blob/main/Useful_command.ipynb\" target=\"_parent\"><img src=\"https://colab.research.google.com/assets/colab-badge.svg\" alt=\"Open In Colab\"/></a>"
      ]
    },
    {
      "cell_type": "code",
      "execution_count": null,
      "metadata": {
        "id": "8x1-tsw6ylV7"
      },
      "outputs": [],
      "source": [
        "## Upload and download files\n",
        "  # To upload file(s) from your computer, run the following command and click the choose file buttonn\n",
        "  from google.colab import files\n",
        "  files.upload()\n",
        "  # To download file(s) from your computer, run the following command\n",
        "  from google.colab import files\n",
        "  files.download('path/to/your/file')\n",
        "  # To upload several files to colab, it is advisable to zip files and upload the zipped file and unzip from colab\n",
        "## To install package on Colab, use the command\n",
        "!pip install-upgrade<package name>\n",
        "E.g. !pip install-upgrade pandas\n",
        "## To suppress the information printout during instalation of packages, use'--quit'\n",
        "!pip insall --upgrade<package name>quit\n",
        "E.g. ! pip install --upgrade pandas --quit\n",
        "## To unzip uploaded zip file\n",
        "!unzip<zipfile name>\n",
        "E.g. !unzip Tedy.zip"
      ]
    }
  ]
}